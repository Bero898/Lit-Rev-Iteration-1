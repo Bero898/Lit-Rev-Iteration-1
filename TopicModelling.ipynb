{
 "cells": [
  {
   "cell_type": "code",
   "execution_count": 1,
   "metadata": {},
   "outputs": [],
   "source": [
    "# Necessary imports\n",
    "import pandas as pd\n",
    "import numpy as np\n",
    "from sklearn.feature_extraction.text import CountVectorizer\n",
    "from sklearn.decomposition import LatentDirichletAllocation\n",
    "import nltk\n",
    "from nltk.tokenize import word_tokenize\n",
    "from nltk.corpus import stopwords\n",
    "from nltk.stem import WordNetLemmatizer\n",
    "import re\n",
    "from collections import Counter\n",
    "from FuzzyTM import FLSA_W\n",
    "import matplotlib.pyplot as plt\n",
    "import seaborn as sns\n"
   ]
  },
  {
   "cell_type": "code",
   "execution_count": 2,
   "metadata": {},
   "outputs": [
    {
     "name": "stderr",
     "output_type": "stream",
     "text": [
      "[nltk_data] Downloading package punkt to\n",
      "[nltk_data]     C:\\Users\\bvits\\AppData\\Roaming\\nltk_data...\n",
      "[nltk_data]   Package punkt is already up-to-date!\n",
      "[nltk_data] Downloading package stopwords to\n",
      "[nltk_data]     C:\\Users\\bvits\\AppData\\Roaming\\nltk_data...\n",
      "[nltk_data]   Package stopwords is already up-to-date!\n",
      "[nltk_data] Downloading package wordnet to\n",
      "[nltk_data]     C:\\Users\\bvits\\AppData\\Roaming\\nltk_data...\n",
      "[nltk_data]   Package wordnet is already up-to-date!\n"
     ]
    },
    {
     "data": {
      "text/plain": [
       "True"
      ]
     },
     "execution_count": 2,
     "metadata": {},
     "output_type": "execute_result"
    }
   ],
   "source": [
    "\n",
    "# Download required NLTK data\n",
    "nltk.download('punkt')\n",
    "nltk.download('stopwords')\n",
    "nltk.download('wordnet')\n",
    "\n"
   ]
  },
  {
   "cell_type": "code",
   "execution_count": 3,
   "metadata": {},
   "outputs": [],
   "source": [
    "# Read the CSV file\n",
    "df = pd.read_csv('What are the components of microservice (no boolean)/IEEE(Conference).csv')"
   ]
  },
  {
   "cell_type": "code",
   "execution_count": 4,
   "metadata": {},
   "outputs": [],
   "source": [
    "# Preprocessing function\n",
    "def preprocess_text(text):\n",
    "    text = text.strip()\n",
    "    # Replace URLs with empty string\n",
    "    text = re.sub(r'http\\S+|www\\S+|https\\S+', '', text, flags=re.MULTILINE)\n",
    "    # Tokenize\n",
    "    words = word_tokenize(text.lower())\n",
    "    # Remove non-alpha and convert to lowercase\n",
    "    alpha_words = [word for word in words if word.isalpha()]\n",
    "    # Remove numbers\n",
    "    numbers_words = [word for word in alpha_words if not word.isdigit()]\n",
    "    # Remove stopwords\n",
    "    stop_words = set(stopwords.words('english'))\n",
    "    stop_words_removed = [word for word in numbers_words if word not in stop_words]\n",
    "    # Lemmatization\n",
    "    lemmatizer = WordNetLemmatizer()\n",
    "    lemmatized_words = [lemmatizer.lemmatize(word) for word in stop_words_removed]\n",
    "    \n",
    "    return lemmatized_words\n",
    "\n",
    "# Combine title and abstract for analysis\n",
    "df['text'] = df['Document Title'] + ' ' + df['Abstract']\n",
    "df['processed_text'] = df['text'].apply(preprocess_text)\n",
    "\n",
    "# Remove infrequent and too frequent words\n",
    "# Remove infrequent and too frequent words\n",
    "all_words = [word for content in df['processed_text'] for word in content]\n",
    "word_freq = Counter(all_words)\n",
    "\n",
    "min_freq = 3\n",
    "max_freq = 0.7 * len(df)\n",
    "filtered_words = {word for word, freq in word_freq.items() if min_freq <= freq <= max_freq}\n",
    "\n",
    "def filter_content(content):\n",
    "    return [word for word in content if word in filtered_words]\n",
    "\n",
    "df['processed_text'] = df['processed_text'].apply(filter_content)\n",
    "# Create document-term matrix\n",
    "vectorizer = CountVectorizer()\n",
    "X = vectorizer.fit_transform(df['processed_text'].apply(lambda x: ' '.join(x)))\n",
    "\n"
   ]
  },
  {
   "cell_type": "code",
   "execution_count": 5,
   "metadata": {},
   "outputs": [
    {
     "name": "stdout",
     "output_type": "stream",
     "text": [
      "\n",
      "LDA Topics:\n",
      "Topic 0: approach security model digital resource monitoring vehicle design framework management\n",
      "Topic 1: development technology process business research using based model management tool\n",
      "Topic 2: computing edge iot resource performance device based communication infrastructure distributed\n",
      "Topic 3: approach based model framework method using anomaly development dependency analysis\n",
      "Topic 4: based solution approach design framework security result resource control using\n"
     ]
    }
   ],
   "source": [
    "# 2. LDA\n",
    "def get_topics(model, vectorizer, n_top_words):\n",
    "    words = vectorizer.get_feature_names_out()\n",
    "    topics = []\n",
    "    for topic in model.components_:\n",
    "        topic_words = [words[i] for i in topic.argsort()[:-n_top_words - 1:-1]]\n",
    "        topics.append(topic_words)\n",
    "    return topics\n",
    "\n",
    "# Train LDA\n",
    "lda = LatentDirichletAllocation(n_components=5, random_state=42)\n",
    "lda.fit(X)\n",
    "\n",
    "# Get LDA topics\n",
    "lda_topics = get_topics(lda, vectorizer, 10)\n",
    "print(\"\\nLDA Topics:\")\n",
    "for idx, topic in enumerate(lda_topics):\n",
    "    print(f\"Topic {idx}: {' '.join(topic)}\")\n",
    "\n",
    "\n"
   ]
  },
  {
   "cell_type": "code",
   "execution_count": 6,
   "metadata": {},
   "outputs": [
    {
     "data": {
      "image/png": "[encoded data removed]",
      "text/plain": [
       "<Figure size 1000x500 with 1 Axes>"
      ]
     },
     "metadata": {},
     "output_type": "display_data"
    }
   ],
   "source": [
    "\n",
    "# Plot topic distribution\n",
    "topic_dist = lda.transform(X)\n",
    "dominant_topics = topic_dist.argmax(axis=1)\n",
    "\n",
    "plt.figure(figsize=(10, 5))\n",
    "sns.histplot(dominant_topics, bins=5)\n",
    "plt.xlabel('Topic')\n",
    "plt.ylabel('Number of documents')\n",
    "plt.title('Distribution of topics in documents')\n",
    "plt.show()"
   ]
  },
  {
   "cell_type": "code",
   "execution_count": 7,
   "metadata": {},
   "outputs": [
    {
     "name": "stderr",
     "output_type": "stream",
     "text": [
      "c:\\Users\\bvits\\OneDrive\\Desktop\\2024\\Uni\\thesis\\thesis reading\\compatibility of data products\\Lit Review\\Processing Docs\\.venv\\lib\\site-packages\\tqdm\\auto.py:21: TqdmWarning: IProgress not found. Please update jupyter and ipywidgets. See https://ipywidgets.readthedocs.io/en/stable/user_install.html\n",
      "  from .autonotebook import tqdm as notebook_tqdm\n"
     ]
    }
   ],
   "source": [
    "# Imports\n",
    "from bertopic import BERTopic\n",
    "from sklearn.feature_extraction.text import CountVectorizer\n",
    "from sklearn.metrics.pairwise import cosine_similarity\n",
    "import numpy as np\n",
    "import pandas as pd\n",
    "from umap import UMAP\n",
    "from hdbscan import HDBSCAN\n",
    "import matplotlib.pyplot as plt\n",
    "from FuzzyTM import FLSA_W"
   ]
  },
  {
   "cell_type": "code",
   "execution_count": 8,
   "metadata": {},
   "outputs": [
    {
     "name": "stderr",
     "output_type": "stream",
     "text": [
      "2025-01-23 14:32:57,937 - BERTopic - Embedding - Transforming documents to embeddings.\n",
      "Batches: 100%|██████████| 21/21 [00:28<00:00,  1.36s/it]\n",
      "2025-01-23 14:33:33,644 - BERTopic - Embedding - Completed ✓\n",
      "2025-01-23 14:33:33,644 - BERTopic - Dimensionality - Fitting the dimensionality reduction algorithm\n",
      "2025-01-23 14:33:43,421 - BERTopic - Dimensionality - Completed ✓\n",
      "2025-01-23 14:33:43,428 - BERTopic - Cluster - Start clustering the reduced embeddings\n",
      "2025-01-23 14:33:43,470 - BERTopic - Cluster - Completed ✓\n",
      "2025-01-23 14:33:43,481 - BERTopic - Representation - Extracting topics from clusters using representation models.\n",
      "2025-01-23 14:33:43,612 - BERTopic - Representation - Completed ✓\n"
     ]
    }
   ],
   "source": [
    "# Combine title and abstract for analysis \n",
    "df['text'] = df['Document Title'] + ' ' + df['Abstract']\n",
    "docs = df['text'].tolist()\n",
    "\n",
    "# Create BERTopic model with parameters from example\n",
    "umap_model = UMAP(n_neighbors=15, n_components=5, min_dist=0.0, metric='cosine')\n",
    "hdbscan_model = HDBSCAN(min_cluster_size=15, metric='euclidean', cluster_selection_method='eom', prediction_data=True)\n",
    "vectorizer_model = CountVectorizer(stop_words=\"english\")\n",
    "\n",
    "topic_model = BERTopic(\n",
    "    umap_model=umap_model, \n",
    "    hdbscan_model=hdbscan_model,\n",
    "    vectorizer_model=vectorizer_model,\n",
    "    calculate_probabilities=True,\n",
    "    verbose=True\n",
    ")\n",
    "\n",
    "# Fit model and get topics\n",
    "topics, probs = topic_model.fit_transform(docs)\n"
   ]
  },
  {
   "cell_type": "code",
   "execution_count": 9,
   "metadata": {},
   "outputs": [
    {
     "name": "stdout",
     "output_type": "stream",
     "text": [
      "Number of topics: 8\n",
      "\n",
      "Top terms per topic:\n",
      "   Topic  Count                                               Name  \\\n",
      "0     -1    135                 -1_data_architecture_cloud_systems   \n",
      "1      0    143                       0_edge_iot_network_computing   \n",
      "2      1    141  1_microservices_architecture_software_microser...   \n",
      "3      2    114       2_cloud_applications_performance_application   \n",
      "4      3     39            3_security_service_attack_microservices   \n",
      "5      4     38          4_digital_control_industrial_architecture   \n",
      "6      5     31              5_anomaly_root_detection_microservice   \n",
      "7      6     21                     6_machine_learning_models_data   \n",
      "\n",
      "                                      Representation  \\\n",
      "0  [data, architecture, cloud, systems, paper, co...   \n",
      "1  [edge, iot, network, computing, architecture, ...   \n",
      "2  [microservices, architecture, software, micros...   \n",
      "3  [cloud, applications, performance, application...   \n",
      "4  [security, service, attack, microservices, tru...   \n",
      "5  [digital, control, industrial, architecture, s...   \n",
      "6  [anomaly, root, detection, microservice, cause...   \n",
      "7  [machine, learning, models, data, ml, ai, mode...   \n",
      "\n",
      "                                 Representative_Docs  \n",
      "0  [A 5G PaaS Collaborative Management and Contro...  \n",
      "1  [Microservice Based Edge Computing Architectur...  \n",
      "2  [Towards Decomposing Monolithic Applications i...  \n",
      "3  [Container Mapping and its Impact on Performan...  \n",
      "4  [Automatic Derivation of Vulnerability Models ...  \n",
      "5  [Research on Dynamic Analysis Technology of Ec...  \n",
      "6  [Practical Root Cause Localization for Microse...  \n",
      "7  [From Models to Microservices: Easily Operatio...  \n"
     ]
    }
   ],
   "source": [
    "# Print topics info\n",
    "print(\"Number of topics:\", len(set(topics)))\n",
    "print(\"\\nTop terms per topic:\")\n",
    "print(topic_model.get_topic_info())\n",
    "\n",
    "# Visualize topics\n",
    "fig = topic_model.visualize_topics()\n",
    "plt.show()\n"
   ]
  },
  {
   "cell_type": "code",
   "execution_count": 11,
   "metadata": {},
   "outputs": [
    {
     "name": "stdout",
     "output_type": "stream",
     "text": [
      "\n",
      "Articles for topic 2:\n",
      "                                                  text\n",
      "0    RapidMS: A Tool for Supporting Rapid Microserv...\n",
      "1    Performance Evaluation of Monolithic and Micro...\n",
      "2    A Component-Based Evolution Model for Service-...\n",
      "3    Comparative Analysis of Monolith, Microservice...\n",
      "4    An Approach of a Migration Process from a Lega...\n",
      "..                                                 ...\n",
      "136  Exploiting Paired Concepts to Facilitate Softw...\n",
      "137  RESTful Web Services – A Question of Standards...\n",
      "138  Pipekit: A Deployment Tool with Advanced Sched...\n",
      "139  1st International Workshop on Essence in Educa...\n",
      "140  YACHAY - A fully integrated system to promote ...\n",
      "\n",
      "[141 rows x 1 columns]\n"
     ]
    }
   ],
   "source": [
    "# Code that obtains the articles that belong to a specific topic as a dataframe\n",
    "def get_topic_articles(topic, topics, docs):\n",
    "    topic_articles = []\n",
    "    for idx, t in enumerate(topics):\n",
    "        if t == topic:\n",
    "            topic_articles.append(docs[idx])\n",
    "    return pd.DataFrame(topic_articles, columns=['text'])\n",
    "\n",
    "# Get articles for topic 2\n",
    "topic_2_articles = get_topic_articles(1, topics, docs)\n",
    "print(\"\\nArticles for topic 2:\")\n",
    "print(topic_2_articles)\n",
    "\n",
    "\n",
    "\n"
   ]
  }
 ],
 "metadata": {
  "kernelspec": {
   "display_name": ".venv",
   "language": "python",
   "name": "python3"
  },
  "language_info": {
   "codemirror_mode": {
    "name": "ipython",
    "version": 3
   },
   "file_extension": ".py",
   "mimetype": "text/x-python",
   "name": "python",
   "nbconvert_exporter": "python",
   "pygments_lexer": "ipython3",
   "version": "3.9.19"
  }
 },
 "nbformat": 4,
 "nbformat_minor": 2
}
