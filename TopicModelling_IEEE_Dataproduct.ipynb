{
 "cells": [
  {
   "cell_type": "code",
   "execution_count": 1,
   "metadata": {},
   "outputs": [],
   "source": [
    "\n",
    "##THERE ARE TOO FEW DOCUMENTS FOR THIS SO IT DOESN'T WORK\n",
    "#this is not necessary anyways so no need to worry.\n",
    "\n",
    "# Necessary imports\n",
    "import pandas as pd\n",
    "import numpy as np\n",
    "from sklearn.feature_extraction.text import CountVectorizer\n",
    "from sklearn.decomposition import LatentDirichletAllocation\n",
    "import nltk\n",
    "from nltk.tokenize import word_tokenize\n",
    "from nltk.corpus import stopwords\n",
    "from nltk.stem import WordNetLemmatizer\n",
    "import re\n",
    "from collections import Counter\n",
    "from FuzzyTM import FLSA_W\n",
    "import matplotlib.pyplot as plt\n",
    "import seaborn as sns\n"
   ]
  },
  {
   "cell_type": "code",
   "execution_count": 2,
   "metadata": {},
   "outputs": [
    {
     "name": "stderr",
     "output_type": "stream",
     "text": [
      "[nltk_data] Downloading package punkt to\n",
      "[nltk_data]     C:\\Users\\bvits\\AppData\\Roaming\\nltk_data...\n",
      "[nltk_data]   Package punkt is already up-to-date!\n",
      "[nltk_data] Downloading package stopwords to\n",
      "[nltk_data]     C:\\Users\\bvits\\AppData\\Roaming\\nltk_data...\n",
      "[nltk_data]   Package stopwords is already up-to-date!\n",
      "[nltk_data] Downloading package wordnet to\n",
      "[nltk_data]     C:\\Users\\bvits\\AppData\\Roaming\\nltk_data...\n",
      "[nltk_data]   Package wordnet is already up-to-date!\n"
     ]
    },
    {
     "data": {
      "text/plain": [
       "True"
      ]
     },
     "execution_count": 2,
     "metadata": {},
     "output_type": "execute_result"
    }
   ],
   "source": [
    "\n",
    "# Download required NLTK data\n",
    "nltk.download('punkt')\n",
    "nltk.download('stopwords')\n",
    "nltk.download('wordnet')\n",
    "\n"
   ]
  },
  {
   "cell_type": "code",
   "execution_count": 4,
   "metadata": {},
   "outputs": [],
   "source": [
    "# Read the CSV file\n",
    "\n",
    "df_books_NBool = pd.read_csv('filtered_output_IEEE/filtered_IEEE(Books)_What are the components of a dataproduct (non boolean).csv')\n",
    "\n",
    "df_conference_NBool = pd.read_csv('filtered_output_IEEE/filtered_IEEE(Conference)_What are the components of a dataproduct (non boolean).csv')\n",
    "\n",
    "df_journal_NBool = pd.read_csv('filtered_output_IEEE/filtered_IEEE(Journals)_What are the components of a dataproduct (non boolean).csv')\n",
    "# df_conference_NBool = pd.read_csv('What are the components of microservice (no boolean)/IEEE(Conference).csv')\n",
    "# df_journal_NBool = pd.read_csv('What are the components of microservice (no boolean)/IEEE(Journals).csv')\n",
    "# df_books_NBool = pd.read_csv('What are the components of microservice (no boolean)/IEEE(Books).csv')\n",
    "\n",
    "# df_conference_Bool = pd.read_csv('What are the components of microservice (boolean)/IEEE(Conference).csv')\n",
    "\n",
    "\n",
    "\n",
    "# # Combine all the dataframes while adding a column to identify the source\n",
    "df_conference_NBool['source'] = 'conference'\n",
    "df_journal_NBool['source'] = 'journal'\n",
    "df_books_NBool['source'] = 'book'\n",
    "\n",
    "\n",
    "# # Add a column to identify the boolean and non-boolean query data\n",
    "df_conference_NBool['bool'] = 'no'\n",
    "df_journal_NBool['bool'] = 'no'\n",
    "df_books_NBool['bool'] = 'no'\n",
    "\n",
    "df = pd.concat([df_conference_NBool, df_journal_NBool, df_books_NBool])"
   ]
  },
  {
   "cell_type": "code",
   "execution_count": 5,
   "metadata": {},
   "outputs": [],
   "source": [
    "# Preprocessing function\n",
    "def preprocess_text(text):\n",
    "    text = text.strip()\n",
    "    # Replace URLs with empty string\n",
    "    text = re.sub(r'http\\S+|www\\S+|https\\S+', '', text, flags=re.MULTILINE)\n",
    "    # Tokenize\n",
    "    words = word_tokenize(text.lower())\n",
    "    # Remove non-alpha and convert to lowercase\n",
    "    alpha_words = [word for word in words if word.isalpha()]\n",
    "    # Remove numbers\n",
    "    numbers_words = [word for word in alpha_words if not word.isdigit()]\n",
    "    # Remove stopwords\n",
    "    stop_words = set(stopwords.words('english'))\n",
    "    stop_words_removed = [word for word in numbers_words if word not in stop_words]\n",
    "    # Lemmatization\n",
    "    lemmatizer = WordNetLemmatizer()\n",
    "    lemmatized_words = [lemmatizer.lemmatize(word) for word in stop_words_removed]\n",
    "    \n",
    "    return lemmatized_words\n",
    "\n",
    "# Combine title and abstract for analysis\n",
    "df['text'] = df['Document Title'] + ' ' + df['Abstract']\n",
    "df['processed_text'] = df['text'].apply(preprocess_text)\n",
    "\n",
    "# Remove infrequent and too frequent words\n",
    "# Remove infrequent and too frequent words\n",
    "all_words = [word for content in df['processed_text'] for word in content]\n",
    "word_freq = Counter(all_words)\n",
    "\n",
    "min_freq = 3\n",
    "max_freq = 0.7 * len(df)\n",
    "filtered_words = {word for word, freq in word_freq.items() if min_freq <= freq <= max_freq}\n",
    "\n",
    "def filter_content(content):\n",
    "    return [word for word in content if word in filtered_words]\n",
    "\n",
    "df['processed_text'] = df['processed_text'].apply(filter_content)\n",
    "# Create document-term matrix\n",
    "vectorizer = CountVectorizer()\n",
    "X = vectorizer.fit_transform(df['processed_text'].apply(lambda x: ' '.join(x)))\n",
    "\n"
   ]
  },
  {
   "cell_type": "code",
   "execution_count": 6,
   "metadata": {},
   "outputs": [
    {
     "name": "stdout",
     "output_type": "stream",
     "text": [
      "\n",
      "LDA Topics:\n",
      "Topic 0: integration development process processing prediction implementation user tool blueprint reliability\n",
      "Topic 1: ai sensor using new framework project use including sensorweb performance\n",
      "Topic 2: search model pattern machine learning using cloud query flood facet\n",
      "Topic 3: price microservices development cloud opc forecasting result agricultural new web\n",
      "Topic 4: mesh calculation business design platform reliability grid governance implementation enterprise\n"
     ]
    }
   ],
   "source": [
    "# 2. LDA\n",
    "def get_topics(model, vectorizer, n_top_words):\n",
    "    words = vectorizer.get_feature_names_out()\n",
    "    topics = []\n",
    "    for topic in model.components_:\n",
    "        topic_words = [words[i] for i in topic.argsort()[:-n_top_words - 1:-1]]\n",
    "        topics.append(topic_words)\n",
    "    return topics\n",
    "\n",
    "# Train LDA\n",
    "lda = LatentDirichletAllocation(n_components=5, random_state=42)\n",
    "lda.fit(X)\n",
    "\n",
    "# Get LDA topics\n",
    "lda_topics = get_topics(lda, vectorizer, 10)\n",
    "print(\"\\nLDA Topics:\")\n",
    "for idx, topic in enumerate(lda_topics):\n",
    "    print(f\"Topic {idx}: {' '.join(topic)}\")\n",
    "\n",
    "\n"
   ]
  },
  {
   "cell_type": "code",
   "execution_count": 7,
   "metadata": {},
   "outputs": [
    {
     "data": {
      "image/png": "[encoded data removed]",
      "text/plain": [
       "<Figure size 1000x500 with 1 Axes>"
      ]
     },
     "metadata": {},
     "output_type": "display_data"
    }
   ],
   "source": [
    "\n",
    "# Plot topic distribution\n",
    "topic_dist = lda.transform(X)\n",
    "dominant_topics = topic_dist.argmax(axis=1)\n",
    "\n",
    "plt.figure(figsize=(10, 5))\n",
    "sns.histplot(dominant_topics, bins=5)\n",
    "plt.xlabel('Topic')\n",
    "plt.ylabel('Number of documents')\n",
    "plt.title('Distribution of topics in documents')\n",
    "plt.show()"
   ]
  },
  {
   "cell_type": "code",
   "execution_count": 8,
   "metadata": {},
   "outputs": [
    {
     "name": "stderr",
     "output_type": "stream",
     "text": [
      "c:\\Users\\bvits\\OneDrive\\Desktop\\2024\\Uni\\thesis\\thesis reading\\compatibility of data products\\Lit Review\\Processing Docs\\.venv\\lib\\site-packages\\tqdm\\auto.py:21: TqdmWarning: IProgress not found. Please update jupyter and ipywidgets. See https://ipywidgets.readthedocs.io/en/stable/user_install.html\n",
      "  from .autonotebook import tqdm as notebook_tqdm\n"
     ]
    }
   ],
   "source": [
    "# Imports\n",
    "from bertopic import BERTopic\n",
    "from sklearn.feature_extraction.text import CountVectorizer\n",
    "from sklearn.metrics.pairwise import cosine_similarity\n",
    "import numpy as np\n",
    "import pandas as pd\n",
    "from umap import UMAP\n",
    "from hdbscan import HDBSCAN\n",
    "import matplotlib.pyplot as plt\n",
    "from FuzzyTM import FLSA_W"
   ]
  },
  {
   "cell_type": "code",
   "execution_count": 9,
   "metadata": {},
   "outputs": [
    {
     "name": "stderr",
     "output_type": "stream",
     "text": [
      "2025-01-23 16:12:50,607 - BERTopic - Embedding - Transforming documents to embeddings.\n",
      "Batches: 100%|██████████| 2/2 [00:01<00:00,  1.22it/s]\n",
      "2025-01-23 16:12:57,571 - BERTopic - Embedding - Completed ✓\n",
      "2025-01-23 16:12:57,571 - BERTopic - Dimensionality - Fitting the dimensionality reduction algorithm\n",
      "2025-01-23 16:13:05,551 - BERTopic - Dimensionality - Completed ✓\n",
      "2025-01-23 16:13:05,552 - BERTopic - Cluster - Start clustering the reduced embeddings\n",
      "2025-01-23 16:13:05,558 - BERTopic - Cluster - Completed ✓\n",
      "2025-01-23 16:13:05,558 - BERTopic - Representation - Extracting topics from clusters using representation models.\n",
      "2025-01-23 16:13:05,575 - BERTopic - Representation - Completed ✓\n"
     ]
    }
   ],
   "source": [
    "# Combine title and abstract for analysis \n",
    "\n",
    "##THERE ARE TOO FEW DOCUMENTS FOR THIS SO IT DOESN'T WORK\t\n",
    "\n",
    "df['text'] = df['Document Title'] + ' ' + df['Abstract']\n",
    "docs = df['text'].tolist()\n",
    "\n",
    "# Create BERTopic model with parameters from example\n",
    "umap_model = UMAP(n_neighbors=15, n_components=5, min_dist=0.0, metric='cosine')\n",
    "hdbscan_model = HDBSCAN(min_cluster_size=15, metric='euclidean', cluster_selection_method='eom', prediction_data=True)\n",
    "vectorizer_model = CountVectorizer(stop_words=\"english\")\n",
    "\n",
    "topic_model = BERTopic(\n",
    "    umap_model=umap_model, \n",
    "    hdbscan_model=hdbscan_model,\n",
    "    vectorizer_model=vectorizer_model,\n",
    "    calculate_probabilities=True,\n",
    "    verbose=True\n",
    ")\n",
    "\n",
    "# Fit model and get topics\n",
    "topics, probs = topic_model.fit_transform(docs)\n"
   ]
  },
  {
   "cell_type": "code",
   "execution_count": 10,
   "metadata": {},
   "outputs": [
    {
     "name": "stdout",
     "output_type": "stream",
     "text": [
      "Number of topics: 1\n",
      "\n",
      "Top terms per topic:\n",
      "   Topic  Count                              Name  \\\n",
      "0     -1     42  -1_data_architecture_service_iot   \n",
      "\n",
      "                                      Representation  \\\n",
      "0  [data, architecture, service, iot, products, s...   \n",
      "\n",
      "                                 Representative_Docs  \n",
      "0  [Research and Implementation of Zhejiang FY-4A...  \n"
     ]
    },
    {
     "ename": "IndexError",
     "evalue": "arrays used as indices must be of integer (or boolean) type",
     "output_type": "error",
     "traceback": [
      "\u001b[1;31m---------------------------------------------------------------------------\u001b[0m",
      "\u001b[1;31mIndexError\u001b[0m                                Traceback (most recent call last)",
      "Cell \u001b[1;32mIn[10], line 7\u001b[0m\n\u001b[0;32m      4\u001b[0m \u001b[38;5;28mprint\u001b[39m(topic_model\u001b[38;5;241m.\u001b[39mget_topic_info())\n\u001b[0;32m      6\u001b[0m \u001b[38;5;66;03m# Visualize topics\u001b[39;00m\n\u001b[1;32m----> 7\u001b[0m fig \u001b[38;5;241m=\u001b[39m \u001b[43mtopic_model\u001b[49m\u001b[38;5;241;43m.\u001b[39;49m\u001b[43mvisualize_topics\u001b[49m\u001b[43m(\u001b[49m\u001b[43m)\u001b[49m\n\u001b[0;32m      8\u001b[0m plt\u001b[38;5;241m.\u001b[39mshow()\n",
      "File \u001b[1;32mc:\\Users\\bvits\\OneDrive\\Desktop\\2024\\Uni\\thesis\\thesis reading\\compatibility of data products\\Lit Review\\Processing Docs\\.venv\\lib\\site-packages\\bertopic\\_bertopic.py:2429\u001b[0m, in \u001b[0;36mBERTopic.visualize_topics\u001b[1;34m(self, topics, top_n_topics, use_ctfidf, custom_labels, title, width, height)\u001b[0m\n\u001b[0;32m   2396\u001b[0m \u001b[38;5;250m\u001b[39m\u001b[38;5;124;03m\"\"\"Visualize topics, their sizes, and their corresponding words.\u001b[39;00m\n\u001b[0;32m   2397\u001b[0m \n\u001b[0;32m   2398\u001b[0m \u001b[38;5;124;03mThis visualization is highly inspired by LDAvis, a great visualization\u001b[39;00m\n\u001b[1;32m   (...)\u001b[0m\n\u001b[0;32m   2426\u001b[0m \u001b[38;5;124;03m```\u001b[39;00m\n\u001b[0;32m   2427\u001b[0m \u001b[38;5;124;03m\"\"\"\u001b[39;00m\n\u001b[0;32m   2428\u001b[0m check_is_fitted(\u001b[38;5;28mself\u001b[39m)\n\u001b[1;32m-> 2429\u001b[0m \u001b[38;5;28;01mreturn\u001b[39;00m \u001b[43mplotting\u001b[49m\u001b[38;5;241;43m.\u001b[39;49m\u001b[43mvisualize_topics\u001b[49m\u001b[43m(\u001b[49m\n\u001b[0;32m   2430\u001b[0m \u001b[43m    \u001b[49m\u001b[38;5;28;43mself\u001b[39;49m\u001b[43m,\u001b[49m\n\u001b[0;32m   2431\u001b[0m \u001b[43m    \u001b[49m\u001b[43mtopics\u001b[49m\u001b[38;5;241;43m=\u001b[39;49m\u001b[43mtopics\u001b[49m\u001b[43m,\u001b[49m\n\u001b[0;32m   2432\u001b[0m \u001b[43m    \u001b[49m\u001b[43mtop_n_topics\u001b[49m\u001b[38;5;241;43m=\u001b[39;49m\u001b[43mtop_n_topics\u001b[49m\u001b[43m,\u001b[49m\n\u001b[0;32m   2433\u001b[0m \u001b[43m    \u001b[49m\u001b[43muse_ctfidf\u001b[49m\u001b[38;5;241;43m=\u001b[39;49m\u001b[43muse_ctfidf\u001b[49m\u001b[43m,\u001b[49m\n\u001b[0;32m   2434\u001b[0m \u001b[43m    \u001b[49m\u001b[43mcustom_labels\u001b[49m\u001b[38;5;241;43m=\u001b[39;49m\u001b[43mcustom_labels\u001b[49m\u001b[43m,\u001b[49m\n\u001b[0;32m   2435\u001b[0m \u001b[43m    \u001b[49m\u001b[43mtitle\u001b[49m\u001b[38;5;241;43m=\u001b[39;49m\u001b[43mtitle\u001b[49m\u001b[43m,\u001b[49m\n\u001b[0;32m   2436\u001b[0m \u001b[43m    \u001b[49m\u001b[43mwidth\u001b[49m\u001b[38;5;241;43m=\u001b[39;49m\u001b[43mwidth\u001b[49m\u001b[43m,\u001b[49m\n\u001b[0;32m   2437\u001b[0m \u001b[43m    \u001b[49m\u001b[43mheight\u001b[49m\u001b[38;5;241;43m=\u001b[39;49m\u001b[43mheight\u001b[49m\u001b[43m,\u001b[49m\n\u001b[0;32m   2438\u001b[0m \u001b[43m\u001b[49m\u001b[43m)\u001b[49m\n",
      "File \u001b[1;32mc:\\Users\\bvits\\OneDrive\\Desktop\\2024\\Uni\\thesis\\thesis reading\\compatibility of data products\\Lit Review\\Processing Docs\\.venv\\lib\\site-packages\\bertopic\\plotting\\_topics.py:86\u001b[0m, in \u001b[0;36mvisualize_topics\u001b[1;34m(topic_model, topics, top_n_topics, use_ctfidf, custom_labels, title, width, height)\u001b[0m\n\u001b[0;32m     78\u001b[0m indices \u001b[38;5;241m=\u001b[39m np\u001b[38;5;241m.\u001b[39marray([all_topics\u001b[38;5;241m.\u001b[39mindex(topic) \u001b[38;5;28;01mfor\u001b[39;00m topic \u001b[38;5;129;01min\u001b[39;00m topics])\n\u001b[0;32m     80\u001b[0m embeddings, c_tfidf_used \u001b[38;5;241m=\u001b[39m select_topic_representation(\n\u001b[0;32m     81\u001b[0m     topic_model\u001b[38;5;241m.\u001b[39mc_tf_idf_,\n\u001b[0;32m     82\u001b[0m     topic_model\u001b[38;5;241m.\u001b[39mtopic_embeddings_,\n\u001b[0;32m     83\u001b[0m     use_ctfidf\u001b[38;5;241m=\u001b[39muse_ctfidf,\n\u001b[0;32m     84\u001b[0m     output_ndarray\u001b[38;5;241m=\u001b[39m\u001b[38;5;28;01mTrue\u001b[39;00m,\n\u001b[0;32m     85\u001b[0m )\n\u001b[1;32m---> 86\u001b[0m embeddings \u001b[38;5;241m=\u001b[39m \u001b[43membeddings\u001b[49m\u001b[43m[\u001b[49m\u001b[43mindices\u001b[49m\u001b[43m]\u001b[49m\n\u001b[0;32m     88\u001b[0m \u001b[38;5;28;01mif\u001b[39;00m c_tfidf_used:\n\u001b[0;32m     89\u001b[0m     embeddings \u001b[38;5;241m=\u001b[39m MinMaxScaler()\u001b[38;5;241m.\u001b[39mfit_transform(embeddings)\n",
      "\u001b[1;31mIndexError\u001b[0m: arrays used as indices must be of integer (or boolean) type"
     ]
    }
   ],
   "source": [
    "# Print topics info\n",
    "print(\"Number of topics:\", len(set(topics)))\n",
    "print(\"\\nTop terms per topic:\")\n",
    "print(topic_model.get_topic_info())\n",
    "\n",
    "# Visualize topics\n",
    "fig = topic_model.visualize_topics()\n",
    "plt.show()\n"
   ]
  },
  {
   "cell_type": "code",
   "execution_count": 11,
   "metadata": {},
   "outputs": [
    {
     "name": "stdout",
     "output_type": "stream",
     "text": [
      "\n",
      "Articles for topic 0:\n",
      "Empty DataFrame\n",
      "Columns: [text]\n",
      "Index: []\n"
     ]
    }
   ],
   "source": [
    "# Code that obtains the articles that belong to a specific topic as a dataframe\n",
    "def get_topic_articles(topic, topics, docs):\n",
    "    topic_articles = []\n",
    "    for idx, t in enumerate(topics):\n",
    "        if t == topic:\n",
    "            topic_articles.append(docs[idx])\n",
    "    return pd.DataFrame(topic_articles, columns=['text'])\n",
    "\n",
    "# Get articles for topic 2\n",
    "topic_0_articles = get_topic_articles(0, topics, docs)\n",
    "print(\"\\nArticles for topic 0:\")\n",
    "print(topic_0_articles)\n",
    "\n",
    "\n",
    "\n"
   ]
  },
  {
   "cell_type": "code",
   "execution_count": 16,
   "metadata": {},
   "outputs": [
    {
     "name": "stdout",
     "output_type": "stream",
     "text": [
      "\n",
      "Articles for topic 1:\n",
      "                                                  text\n",
      "0    RapidMS: A Tool for Supporting Rapid Microserv...\n",
      "1    Performance Evaluation of Monolithic and Micro...\n",
      "2    A Component-Based Evolution Model for Service-...\n",
      "3    Evaluating the Inter-Service Communication on ...\n",
      "4    Comparative Analysis of Monolith, Microservice...\n",
      "..                                                 ...\n",
      "132  Implementing Event-Driven Microservices Archit...\n",
      "133  Software Architecture with C++: Design modern ...\n",
      "134  Event-Driven Architecture in Golang: Building ...\n",
      "135  Content Management System Architecture This ch...\n",
      "136  An Atypical ASP.NET Core 6 Design Patterns Gui...\n",
      "\n",
      "[137 rows x 1 columns]\n"
     ]
    }
   ],
   "source": [
    "topic_1_articles = get_topic_articles(1, topics, docs)\n",
    "print(\"\\nArticles for topic 1:\")\n",
    "print(topic_1_articles)"
   ]
  }
 ],
 "metadata": {
  "kernelspec": {
   "display_name": ".venv",
   "language": "python",
   "name": "python3"
  },
  "language_info": {
   "codemirror_mode": {
    "name": "ipython",
    "version": 3
   },
   "file_extension": ".py",
   "mimetype": "text/x-python",
   "name": "python",
   "nbconvert_exporter": "python",
   "pygments_lexer": "ipython3",
   "version": "3.9.19"
  }
 },
 "nbformat": 4,
 "nbformat_minor": 2
}
