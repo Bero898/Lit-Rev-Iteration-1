{
 "cells": [
  {
   "cell_type": "code",
   "execution_count": 1,
   "metadata": {},
   "outputs": [],
   "source": [
    "# Necessary imports\n",
    "import pandas as pd\n",
    "import numpy as np\n",
    "from sklearn.feature_extraction.text import CountVectorizer\n",
    "from sklearn.decomposition import LatentDirichletAllocation\n",
    "import nltk\n",
    "from nltk.tokenize import word_tokenize\n",
    "from nltk.corpus import stopwords\n",
    "from nltk.stem import WordNetLemmatizer\n",
    "import re\n",
    "from collections import Counter\n",
    "from FuzzyTM import FLSA_W\n",
    "import matplotlib.pyplot as plt\n",
    "import seaborn as sns\n"
   ]
  },
  {
   "cell_type": "code",
   "execution_count": 2,
   "metadata": {},
   "outputs": [
    {
     "name": "stderr",
     "output_type": "stream",
     "text": [
      "[nltk_data] Downloading package punkt to\n",
      "[nltk_data]     C:\\Users\\bvits\\AppData\\Roaming\\nltk_data...\n",
      "[nltk_data]   Package punkt is already up-to-date!\n",
      "[nltk_data] Downloading package stopwords to\n",
      "[nltk_data]     C:\\Users\\bvits\\AppData\\Roaming\\nltk_data...\n",
      "[nltk_data]   Package stopwords is already up-to-date!\n",
      "[nltk_data] Downloading package wordnet to\n",
      "[nltk_data]     C:\\Users\\bvits\\AppData\\Roaming\\nltk_data...\n",
      "[nltk_data]   Package wordnet is already up-to-date!\n"
     ]
    },
    {
     "data": {
      "text/plain": [
       "True"
      ]
     },
     "execution_count": 2,
     "metadata": {},
     "output_type": "execute_result"
    }
   ],
   "source": [
    "\n",
    "# Download required NLTK data\n",
    "nltk.download('punkt')\n",
    "nltk.download('stopwords')\n",
    "nltk.download('wordnet')\n",
    "\n"
   ]
  },
  {
   "cell_type": "code",
   "execution_count": 3,
   "metadata": {},
   "outputs": [
    {
     "name": "stdout",
     "output_type": "stream",
     "text": [
      "Total number of documents: 490\n",
      "\n",
      "Sample of merged dataset:\n",
      "                                      Document Title  \\\n",
      "0  Vehicular-OBUs-As-On-Demand-Fogs: Resource and...   \n",
      "1  SPRIGHT: High-Performance eBPF-Based Event-Dri...   \n",
      "2  Zero+: Monitoring Large-Scale Cloud-Native Inf...   \n",
      "3  DeepScaling: Autoscaling Microservices With St...   \n",
      "4        Architectural Principles for Cloud Software   \n",
      "\n",
      "                                            Abstract source bool  \n",
      "0  Observing the headway in vehicular industry, n...    ACM   no  \n",
      "1  Serverless computing promises an efficient, lo...    ACM   no  \n",
      "2  Cloud services have shifted from monolithic de...    ACM   no  \n",
      "3  Cloud service providers often provision excess...    ACM   no  \n",
      "4  A cloud is a distributed Internet-based softwa...    ACM   no  \n",
      "\n",
      "Dataset columns:\n",
      "['Document Title', 'Abstract', 'source', 'bool']\n"
     ]
    }
   ],
   "source": [
    "# Imports\n",
    "import pandas as pd\n",
    "\n",
    "# Read IEEE files\n",
    "df_books_NBool_IEEE = pd.read_csv('filtered_output_IEEE/filtered_IEEE(Books)_What are the components of microservice (no boolean).csv')\n",
    "df_conference_Bool_IEEE = pd.read_csv('filtered_output_IEEE/filtered_IEEE(Conference)_What are the components of microservice (boolean).csv')\n",
    "df_conference_NBool_IEEE = pd.read_csv('filtered_output_IEEE/filtered_IEEE(Conference)_What are the components of microservice (no boolean).csv')\n",
    "df_journal_NBool_IEEE = pd.read_csv('filtered_output_IEEE/filtered_IEEE(Journals)_What are the components of microservice (no boolean).csv')\n",
    "\n",
    "# Read ACM files\n",
    "df_NBool_ACM = pd.read_csv('filtered_output/filtered_Microservices_nonbool.csv')\n",
    "df_Bool_ACM = pd.read_csv('filtered_output/filtered_Microservices_bool.csv')\n",
    "\n",
    "# Rename ACM columns to match IEEE format\n",
    "acm_to_ieee = {\n",
    "    'title': 'Document Title',\n",
    "    'authors': 'Authors',\n",
    "    'year': 'Publication Year',\n",
    "    'journal': 'Publication Title',\n",
    "    'abstract': 'Abstract',\n",
    "    'doi': 'DOI'\n",
    "}\n",
    "\n",
    "df_NBool_ACM = df_NBool_ACM.rename(columns=acm_to_ieee)\n",
    "df_Bool_ACM = df_Bool_ACM.rename(columns=acm_to_ieee)\n",
    "\n",
    "# Add source and bool columns to ACM dataframes\n",
    "df_NBool_ACM['source'] = 'ACM'\n",
    "df_Bool_ACM['source'] = 'ACM'\n",
    "df_NBool_ACM['bool'] = 'no'\n",
    "df_Bool_ACM['bool'] = 'yes'\n",
    "\n",
    "# Add source and bool columns to IEEE dataframes\n",
    "df_conference_NBool_IEEE['source'] = 'IEEE conference'\n",
    "df_journal_NBool_IEEE['source'] = 'IEEE journal'\n",
    "df_books_NBool_IEEE['source'] = 'IEEE book'\n",
    "df_conference_Bool_IEEE['source'] = 'IEEE conference'\n",
    "\n",
    "df_conference_NBool_IEEE['bool'] = 'no'\n",
    "df_journal_NBool_IEEE['bool'] = 'no'\n",
    "df_books_NBool_IEEE['bool'] = 'no'\n",
    "df_conference_Bool_IEEE['bool'] = 'yes'\n",
    "\n",
    "# Essential columns for topic modeling (based on the code in TopicModelling_Microservice.ipynb)\n",
    "essential_columns = ['Document Title', 'Abstract', 'source', 'bool']\n",
    "\n",
    "# Function to ensure dataframe has all essential columns\n",
    "def standardize_columns(df):\n",
    "    for col in essential_columns:\n",
    "        if col not in df.columns:\n",
    "            df[col] = ''  # Add empty column if missing\n",
    "    return df[essential_columns]\n",
    "\n",
    "# Standardize all dataframes\n",
    "dfs = [\n",
    "    df_NBool_ACM, \n",
    "    df_Bool_ACM,\n",
    "    df_conference_NBool_IEEE,\n",
    "    df_journal_NBool_IEEE,\n",
    "    df_books_NBool_IEEE,\n",
    "    df_conference_Bool_IEEE\n",
    "]\n",
    "\n",
    "standardized_dfs = [standardize_columns(df) for df in dfs]\n",
    "\n",
    "# Combine all dataframes\n",
    "df = pd.concat(standardized_dfs, ignore_index=True)\n",
    "\n",
    "# Remove any rows where Abstract or Document Title is empty\n",
    "df = df.dropna(subset=['Abstract', 'Document Title'])\n",
    "\n",
    "# Print info about the merged dataset\n",
    "print(f\"Total number of documents: {len(df)}\")\n",
    "print(\"\\nSample of merged dataset:\")\n",
    "print(df.head())\n",
    "print(\"\\nDataset columns:\")\n",
    "print(df.columns.tolist())"
   ]
  },
  {
   "cell_type": "code",
   "execution_count": 4,
   "metadata": {},
   "outputs": [],
   "source": [
    "# Preprocessing function\n",
    "def preprocess_text(text):\n",
    "    text = text.strip()\n",
    "    # Replace URLs with empty string\n",
    "    text = re.sub(r'http\\S+|www\\S+|https\\S+', '', text, flags=re.MULTILINE)\n",
    "    # Tokenize\n",
    "    words = word_tokenize(text.lower())\n",
    "    # Remove non-alpha and convert to lowercase\n",
    "    alpha_words = [word for word in words if word.isalpha()]\n",
    "    # Remove numbers\n",
    "    numbers_words = [word for word in alpha_words if not word.isdigit()]\n",
    "    # Remove stopwords\n",
    "    stop_words = set(stopwords.words('english'))\n",
    "    stop_words_removed = [word for word in numbers_words if word not in stop_words]\n",
    "    # Lemmatization\n",
    "    lemmatizer = WordNetLemmatizer()\n",
    "    lemmatized_words = [lemmatizer.lemmatize(word) for word in stop_words_removed]\n",
    "    \n",
    "    return lemmatized_words\n",
    "\n",
    "# Combine title and abstract for analysis\n",
    "df['text'] = df['Document Title'] + ' ' + df['Abstract']\n",
    "df['processed_text'] = df['text'].apply(preprocess_text)\n",
    "\n",
    "# Remove infrequent and too frequent words\n",
    "# Remove infrequent and too frequent words\n",
    "all_words = [word for content in df['processed_text'] for word in content]\n",
    "word_freq = Counter(all_words)\n",
    "\n",
    "min_freq = 3\n",
    "max_freq = 0.7 * len(df)\n",
    "filtered_words = {word for word, freq in word_freq.items() if min_freq <= freq <= max_freq}\n",
    "\n",
    "def filter_content(content):\n",
    "    return [word for word in content if word in filtered_words]\n",
    "\n",
    "df['processed_text'] = df['processed_text'].apply(filter_content)\n",
    "# Create document-term matrix\n",
    "vectorizer = CountVectorizer()\n",
    "X = vectorizer.fit_transform(df['processed_text'].apply(lambda x: ' '.join(x)))\n",
    "\n"
   ]
  },
  {
   "cell_type": "code",
   "execution_count": 5,
   "metadata": {},
   "outputs": [
    {
     "name": "stdout",
     "output_type": "stream",
     "text": [
      "\n",
      "LDA Topics:\n",
      "Topic 0: resource performance algorithm latency kubernetes container time network based load\n",
      "Topic 1: distributed metric trace analysis based performance management deployment paper edge\n",
      "Topic 2: computing design development using iot paper based model technology framework\n",
      "Topic 3: network platform paper management framework business design based implementation using\n",
      "Topic 4: model smart based development process tool platform using deployment case\n"
     ]
    }
   ],
   "source": [
    "# 2. LDA\n",
    "def get_topics(model, vectorizer, n_top_words):\n",
    "    words = vectorizer.get_feature_names_out()\n",
    "    topics = []\n",
    "    for topic in model.components_:\n",
    "        topic_words = [words[i] for i in topic.argsort()[:-n_top_words - 1:-1]]\n",
    "        topics.append(topic_words)\n",
    "    return topics\n",
    "\n",
    "# Train LDA\n",
    "lda = LatentDirichletAllocation(n_components=5, random_state=42)\n",
    "lda.fit(X)\n",
    "\n",
    "# Get LDA topics\n",
    "lda_topics = get_topics(lda, vectorizer, 10)\n",
    "print(\"\\nLDA Topics:\")\n",
    "for idx, topic in enumerate(lda_topics):\n",
    "    print(f\"Topic {idx}: {' '.join(topic)}\")\n",
    "\n",
    "\n"
   ]
  },
  {
   "cell_type": "code",
   "execution_count": 6,
   "metadata": {},
   "outputs": [
    {
     "data": {
      "image/png": "[encoded data removed]",
      "text/plain": [
       "<Figure size 1000x500 with 1 Axes>"
      ]
     },
     "metadata": {},
     "output_type": "display_data"
    }
   ],
   "source": [
    "\n",
    "# Plot topic distribution\n",
    "topic_dist = lda.transform(X)\n",
    "dominant_topics = topic_dist.argmax(axis=1)\n",
    "\n",
    "plt.figure(figsize=(10, 5))\n",
    "sns.histplot(dominant_topics, bins=5)\n",
    "plt.xlabel('Topic')\n",
    "plt.ylabel('Number of documents')\n",
    "plt.title('Distribution of topics in documents')\n",
    "plt.show()"
   ]
  },
  {
   "cell_type": "code",
   "execution_count": 7,
   "metadata": {},
   "outputs": [
    {
     "name": "stderr",
     "output_type": "stream",
     "text": [
      "c:\\Users\\bvits\\OneDrive\\Desktop\\2024\\Uni\\thesis\\thesis reading\\compatibility of data products\\Lit Review\\Processing Docs\\.venv\\lib\\site-packages\\tqdm\\auto.py:21: TqdmWarning: IProgress not found. Please update jupyter and ipywidgets. See https://ipywidgets.readthedocs.io/en/stable/user_install.html\n",
      "  from .autonotebook import tqdm as notebook_tqdm\n"
     ]
    }
   ],
   "source": [
    "# Imports\n",
    "from bertopic import BERTopic\n",
    "from sklearn.feature_extraction.text import CountVectorizer\n",
    "from sklearn.metrics.pairwise import cosine_similarity\n",
    "import numpy as np\n",
    "import pandas as pd\n",
    "from umap import UMAP\n",
    "from hdbscan import HDBSCAN\n",
    "import matplotlib.pyplot as plt\n",
    "from FuzzyTM import FLSA_W"
   ]
  },
  {
   "cell_type": "code",
   "execution_count": 8,
   "metadata": {},
   "outputs": [
    {
     "name": "stderr",
     "output_type": "stream",
     "text": [
      "2025-01-25 17:32:10,010 - BERTopic - Embedding - Transforming documents to embeddings.\n",
      "Batches: 100%|██████████| 16/16 [00:23<00:00,  1.44s/it]\n",
      "2025-01-25 17:32:35,404 - BERTopic - Embedding - Completed ✓\n",
      "2025-01-25 17:32:35,404 - BERTopic - Dimensionality - Fitting the dimensionality reduction algorithm\n",
      "2025-01-25 17:32:43,388 - BERTopic - Dimensionality - Completed ✓\n",
      "2025-01-25 17:32:43,388 - BERTopic - Cluster - Start clustering the reduced embeddings\n",
      "2025-01-25 17:32:43,415 - BERTopic - Cluster - Completed ✓\n",
      "2025-01-25 17:32:43,420 - BERTopic - Representation - Extracting topics from clusters using representation models.\n",
      "2025-01-25 17:32:43,502 - BERTopic - Representation - Completed ✓\n"
     ]
    }
   ],
   "source": [
    "# Combine title and abstract for analysis \n",
    "df['text'] = df['Document Title'] + ' ' + df['Abstract']\n",
    "docs = df['text'].tolist()\n",
    "\n",
    "# Create BERTopic model with parameters from example\n",
    "umap_model = UMAP(n_neighbors=15, n_components=5, min_dist=0.0, metric='cosine')\n",
    "hdbscan_model = HDBSCAN(min_cluster_size=15, metric='euclidean', cluster_selection_method='eom', prediction_data=True)\n",
    "vectorizer_model = CountVectorizer(stop_words=\"english\")\n",
    "\n",
    "topic_model = BERTopic(\n",
    "    umap_model=umap_model, \n",
    "    hdbscan_model=hdbscan_model,\n",
    "    vectorizer_model=vectorizer_model,\n",
    "    calculate_probabilities=True,\n",
    "    verbose=True\n",
    ")\n",
    "\n",
    "# Fit model and get topics\n",
    "topics, probs = topic_model.fit_transform(docs)\n"
   ]
  },
  {
   "cell_type": "code",
   "execution_count": 9,
   "metadata": {},
   "outputs": [
    {
     "name": "stdout",
     "output_type": "stream",
     "text": [
      "Number of topics: 5\n",
      "\n",
      "Top terms per topic:\n",
      "   Topic  Count                                               Name  \\\n",
      "0     -1     37  -1_microservices_architecture_components_approach   \n",
      "1      0    245    0_architecture_applications_microservices_cloud   \n",
      "2      1    133  1_microservices_architecture_software_microser...   \n",
      "3      2     45                   2_anomaly_root_data_microservice   \n",
      "4      3     30            3_security_service_microservices_attack   \n",
      "\n",
      "                                      Representation  \\\n",
      "0  [microservices, architecture, components, appr...   \n",
      "1  [architecture, applications, microservices, cl...   \n",
      "2  [microservices, architecture, software, micros...   \n",
      "3  [anomaly, root, data, microservice, cause, det...   \n",
      "4  [security, service, microservices, attack, ser...   \n",
      "\n",
      "                                 Representative_Docs  \n",
      "0  [Easily Designing and Deploying AI enabled Net...  \n",
      "1  [Internet of Things Services Orchestration Fra...  \n",
      "2  [Analyzing Microservices and Monolithic System...  \n",
      "3  [HeMiRCA: Fine-Grained Root Cause Analysis for...  \n",
      "4  [Security Audit of Docker Container Images in ...  \n"
     ]
    }
   ],
   "source": [
    "# Print topics info\n",
    "print(\"Number of topics:\", len(set(topics)))\n",
    "print(\"\\nTop terms per topic:\")\n",
    "print(topic_model.get_topic_info())\n",
    "\n"
   ]
  },
  {
   "cell_type": "code",
   "execution_count": 11,
   "metadata": {},
   "outputs": [
    {
     "name": "stdout",
     "output_type": "stream",
     "text": [
      "\n",
      "Articles for topic 0:\n",
      "                                                  text  \\\n",
      "0    Dynamic Evaluation of Microservice Granularity...   \n",
      "1    Actor-Driven Decomposition of Microservices th...   \n",
      "2    MicroProf: Code-level Attribution of Unnecessa...   \n",
      "3    Data Mesh: A Systematic Gray Literature Review...   \n",
      "4    The structure and delivery of an advanced syst...   \n",
      "..                                                 ...   \n",
      "128  Implementing Event-Driven Microservices Archit...   \n",
      "129  Software Architecture with C++: Design modern ...   \n",
      "130  Event-Driven Architecture in Golang: Building ...   \n",
      "131  Content Management System Architecture This ch...   \n",
      "132  An Atypical ASP.NET Core 6 Design Patterns Gui...   \n",
      "\n",
      "                                        Document Title  \\\n",
      "0    Dynamic Evaluation of Microservice Granularity...   \n",
      "1    Actor-Driven Decomposition of Microservices th...   \n",
      "2    MicroProf: Code-level Attribution of Unnecessa...   \n",
      "3       Data Mesh: A Systematic Gray Literature Review   \n",
      "4    The structure and delivery of an advanced syst...   \n",
      "..                                                 ...   \n",
      "128  Implementing Event-Driven Microservices Archit...   \n",
      "129  Software Architecture with C++: Design modern ...   \n",
      "130  Event-Driven Architecture in Golang: Building ...   \n",
      "131             Content Management System Architecture   \n",
      "132  An Atypical ASP.NET Core 6 Design Patterns Gui...   \n",
      "\n",
      "                                              Abstract     source bool  \\\n",
      "0    Microservices have gained acceptance in softwa...        ACM   no   \n",
      "1    The microservices architectural style has gain...        ACM   no   \n",
      "2    The microservice architecture style has gained...        ACM   no   \n",
      "3    Data mesh is an emerging domain-driven decentr...        ACM   no   \n",
      "4    IT program courses should allow students to ac...        ACM   no   \n",
      "..                                                 ...        ...  ...   \n",
      "128  Implement modern design patterns that leverage...  IEEE book   no   \n",
      "129  Apply business requirements to IT infrastructu...  IEEE book   no   \n",
      "130  Begin building event-driven microservices, inc...  IEEE book   no   \n",
      "131  This chapter looks at architecture elements of...  IEEE book   no   \n",
      "132  The professional developer’s essential guide t...  IEEE book   no   \n",
      "\n",
      "                                        processed_text  \n",
      "0    [dynamic, evaluation, granularity, adaptation,...  \n",
      "1    [decomposition, scalability, assessment, archi...  \n",
      "2    [microprof, unnecessary, transfer, style, gain...  \n",
      "3    [mesh, systematic, gray, literature, review, m...  \n",
      "4    [structure, delivery, advanced, administration...  \n",
      "..                                                 ...  \n",
      "128  [implementing, develop, distributed, apps, sca...  \n",
      "129  [design, modern, using, effective, concept, de...  \n",
      "130  [golang, building, complex, consistency, begin...  \n",
      "131  [content, management, chapter, look, element, ...  \n",
      "132  [core, design, pattern, guide, solid, architec...  \n",
      "\n",
      "[133 rows x 6 columns]\n"
     ]
    }
   ],
   "source": [
    "# Code that obtains the articles that belong to a specific topic as a dataframe\n",
    "def get_topic_articles(topic, topics, docs, df):\n",
    "    topic_articles = []\n",
    "    for idx, t in enumerate(topics):\n",
    "        if t == topic:\n",
    "            topic_articles.append(docs[idx])\n",
    "    text_df = pd.DataFrame(topic_articles, columns=['text'])\n",
    "    topic_df = text_df.merge(df, on='text', how='left')\n",
    "    return topic_df\n",
    "\n",
    "\n",
    "\n",
    "# Get articles for topic 2\n",
    "topic_0_articles = get_topic_articles(1, topics, docs, df)\n",
    "\n",
    "# Merge with the original dataframe to get additional information\n",
    "\n",
    "print(\"\\nArticles for topic 0:\")\n",
    "print(topic_0_articles)\n"
   ]
  },
  {
   "cell_type": "code",
   "execution_count": 13,
   "metadata": {},
   "outputs": [],
   "source": [
    "import os\n",
    "\n",
    "# Code to save the dataframe of topics to a file in the topics folder\n",
    "\n",
    "# Create topics directory if it doesn't exist\n",
    "if not os.path.exists('topics'):\n",
    "    os.makedirs('topics')\n",
    "\n",
    "# Iterate over all topics and save the dataframe to a CSV file\n",
    "for topic in set(topics):\n",
    "    topic_articles = get_topic_articles(topic, topics, docs, df)\n",
    "    topic_articles.to_csv(f'topics/topic_{topic}.csv', index=False)"
   ]
  }
 ],
 "metadata": {
  "kernelspec": {
   "display_name": ".venv",
   "language": "python",
   "name": "python3"
  },
  "language_info": {
   "codemirror_mode": {
    "name": "ipython",
    "version": 3
   },
   "file_extension": ".py",
   "mimetype": "text/x-python",
   "name": "python",
   "nbconvert_exporter": "python",
   "pygments_lexer": "ipython3",
   "version": "3.9.19"
  }
 },
 "nbformat": 4,
 "nbformat_minor": 2
}
