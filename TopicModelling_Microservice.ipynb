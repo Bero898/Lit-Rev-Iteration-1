{
 "cells": [
  {
   "cell_type": "code",
   "execution_count": 1,
   "metadata": {},
   "outputs": [],
   "source": [
    "# Necessary imports\n",
    "import pandas as pd\n",
    "import numpy as np\n",
    "from sklearn.feature_extraction.text import CountVectorizer\n",
    "from sklearn.decomposition import LatentDirichletAllocation\n",
    "import nltk\n",
    "from nltk.tokenize import word_tokenize\n",
    "from nltk.corpus import stopwords\n",
    "from nltk.stem import WordNetLemmatizer\n",
    "import re\n",
    "from collections import Counter\n",
    "from FuzzyTM import FLSA_W\n",
    "import matplotlib.pyplot as plt\n",
    "import seaborn as sns\n"
   ]
  },
  {
   "cell_type": "code",
   "execution_count": 2,
   "metadata": {},
   "outputs": [
    {
     "name": "stderr",
     "output_type": "stream",
     "text": [
      "[nltk_data] Downloading package punkt to\n",
      "[nltk_data]     C:\\Users\\bvits\\AppData\\Roaming\\nltk_data...\n",
      "[nltk_data]   Package punkt is already up-to-date!\n",
      "[nltk_data] Downloading package stopwords to\n",
      "[nltk_data]     C:\\Users\\bvits\\AppData\\Roaming\\nltk_data...\n",
      "[nltk_data]   Unzipping corpora\\stopwords.zip.\n",
      "[nltk_data] Downloading package wordnet to\n",
      "[nltk_data]     C:\\Users\\bvits\\AppData\\Roaming\\nltk_data...\n",
      "[nltk_data]   Package wordnet is already up-to-date!\n"
     ]
    },
    {
     "data": {
      "text/plain": [
       "True"
      ]
     },
     "execution_count": 2,
     "metadata": {},
     "output_type": "execute_result"
    }
   ],
   "source": [
    "\n",
    "# Download required NLTK data\n",
    "nltk.download('punkt')\n",
    "nltk.download('stopwords')\n",
    "nltk.download('wordnet')\n",
    "\n"
   ]
  },
  {
   "cell_type": "code",
   "execution_count": 3,
   "metadata": {},
   "outputs": [
    {
     "name": "stdout",
     "output_type": "stream",
     "text": [
      "Total number of documents: 490\n",
      "\n",
      "Sample of merged dataset:\n",
      "                                      Document Title  \\\n",
      "0  Vehicular-OBUs-As-On-Demand-Fogs: Resource and...   \n",
      "1  SPRIGHT: High-Performance eBPF-Based Event-Dri...   \n",
      "2  Zero+: Monitoring Large-Scale Cloud-Native Inf...   \n",
      "3  DeepScaling: Autoscaling Microservices With St...   \n",
      "4        Architectural Principles for Cloud Software   \n",
      "\n",
      "                                            Abstract source bool  \n",
      "0  Observing the headway in vehicular industry, n...    ACM   no  \n",
      "1  Serverless computing promises an efficient, lo...    ACM   no  \n",
      "2  Cloud services have shifted from monolithic de...    ACM   no  \n",
      "3  Cloud service providers often provision excess...    ACM   no  \n",
      "4  A cloud is a distributed Internet-based softwa...    ACM   no  \n",
      "\n",
      "Dataset columns:\n",
      "['Document Title', 'Abstract', 'source', 'bool']\n"
     ]
    }
   ],
   "source": [
    "# Imports\n",
    "import pandas as pd\n",
    "\n",
    "# Read IEEE files\n",
    "df_books_NBool_IEEE = pd.read_csv('filtered_output_IEEE/filtered_IEEE(Books)_What are the components of microservice (no boolean).csv')\n",
    "df_conference_Bool_IEEE = pd.read_csv('filtered_output_IEEE/filtered_IEEE(Conference)_What are the components of microservice (boolean).csv')\n",
    "df_conference_NBool_IEEE = pd.read_csv('filtered_output_IEEE/filtered_IEEE(Conference)_What are the components of microservice (no boolean).csv')\n",
    "df_journal_NBool_IEEE = pd.read_csv('filtered_output_IEEE/filtered_IEEE(Journals)_What are the components of microservice (no boolean).csv')\n",
    "\n",
    "# Read ACM files\n",
    "df_NBool_ACM = pd.read_csv('filtered_output/filtered_Microservices_nonbool.csv')\n",
    "df_Bool_ACM = pd.read_csv('filtered_output/filtered_Microservices_bool.csv')\n",
    "\n",
    "# Rename ACM columns to match IEEE format\n",
    "acm_to_ieee = {\n",
    "    'title': 'Document Title',\n",
    "    'authors': 'Authors',\n",
    "    'year': 'Publication Year',\n",
    "    'journal': 'Publication Title',\n",
    "    'abstract': 'Abstract',\n",
    "    'doi': 'DOI'\n",
    "}\n",
    "\n",
    "df_NBool_ACM = df_NBool_ACM.rename(columns=acm_to_ieee)\n",
    "df_Bool_ACM = df_Bool_ACM.rename(columns=acm_to_ieee)\n",
    "\n",
    "# Add source and bool columns to ACM dataframes\n",
    "df_NBool_ACM['source'] = 'ACM'\n",
    "df_Bool_ACM['source'] = 'ACM'\n",
    "df_NBool_ACM['bool'] = 'no'\n",
    "df_Bool_ACM['bool'] = 'yes'\n",
    "\n",
    "# Add source and bool columns to IEEE dataframes\n",
    "df_conference_NBool_IEEE['source'] = 'IEEE conference'\n",
    "df_journal_NBool_IEEE['source'] = 'IEEE journal'\n",
    "df_books_NBool_IEEE['source'] = 'IEEE book'\n",
    "df_conference_Bool_IEEE['source'] = 'IEEE conference'\n",
    "\n",
    "df_conference_NBool_IEEE['bool'] = 'no'\n",
    "df_journal_NBool_IEEE['bool'] = 'no'\n",
    "df_books_NBool_IEEE['bool'] = 'no'\n",
    "df_conference_Bool_IEEE['bool'] = 'yes'\n",
    "\n",
    "# Essential columns for topic modeling (based on the code in TopicModelling_Microservice.ipynb)\n",
    "essential_columns = ['Document Title', 'Abstract', 'source', 'bool']\n",
    "\n",
    "# Function to ensure dataframe has all essential columns\n",
    "def standardize_columns(df):\n",
    "    for col in essential_columns:\n",
    "        if col not in df.columns:\n",
    "            df[col] = ''  # Add empty column if missing\n",
    "    return df[essential_columns]\n",
    "\n",
    "# Standardize all dataframes\n",
    "dfs = [\n",
    "    df_NBool_ACM, \n",
    "    df_Bool_ACM,\n",
    "    df_conference_NBool_IEEE,\n",
    "    df_journal_NBool_IEEE,\n",
    "    df_books_NBool_IEEE,\n",
    "    df_conference_Bool_IEEE\n",
    "]\n",
    "\n",
    "standardized_dfs = [standardize_columns(df) for df in dfs]\n",
    "\n",
    "# Combine all dataframes\n",
    "df = pd.concat(standardized_dfs, ignore_index=True)\n",
    "\n",
    "# Remove any rows where Abstract or Document Title is empty\n",
    "df = df.dropna(subset=['Abstract', 'Document Title'])\n",
    "\n",
    "# Print info about the merged dataset\n",
    "print(f\"Total number of documents: {len(df)}\")\n",
    "print(\"\\nSample of merged dataset:\")\n",
    "print(df.head())\n",
    "print(\"\\nDataset columns:\")\n",
    "print(df.columns.tolist())"
   ]
  },
  {
   "cell_type": "code",
   "execution_count": 4,
   "metadata": {},
   "outputs": [],
   "source": [
    "# Preprocessing function\n",
    "def preprocess_text(text):\n",
    "    text = text.strip()\n",
    "    # Replace URLs with empty string\n",
    "    text = re.sub(r'http\\S+|www\\S+|https\\S+', '', text, flags=re.MULTILINE)\n",
    "    # Tokenize\n",
    "    words = word_tokenize(text.lower())\n",
    "    # Remove non-alpha and convert to lowercase\n",
    "    alpha_words = [word for word in words if word.isalpha()]\n",
    "    # Remove numbers\n",
    "    numbers_words = [word for word in alpha_words if not word.isdigit()]\n",
    "    # Remove stopwords\n",
    "    stop_words = set(stopwords.words('english'))\n",
    "    stop_words_removed = [word for word in numbers_words if word not in stop_words]\n",
    "    # Lemmatization\n",
    "    lemmatizer = WordNetLemmatizer()\n",
    "    lemmatized_words = [lemmatizer.lemmatize(word) for word in stop_words_removed]\n",
    "    \n",
    "    return lemmatized_words\n",
    "\n",
    "# Combine title and abstract for analysis\n",
    "df['text'] = df['Document Title'] + ' ' + df['Abstract']\n",
    "df['processed_text'] = df['text'].apply(preprocess_text)\n",
    "\n",
    "# Remove infrequent and too frequent words\n",
    "# Remove infrequent and too frequent words\n",
    "all_words = [word for content in df['processed_text'] for word in content]\n",
    "word_freq = Counter(all_words)\n",
    "\n",
    "min_freq = 3\n",
    "max_freq = 0.7 * len(df)\n",
    "filtered_words = {word for word, freq in word_freq.items() if min_freq <= freq <= max_freq}\n",
    "\n",
    "def filter_content(content):\n",
    "    return [word for word in content if word in filtered_words]\n",
    "\n",
    "df['processed_text'] = df['processed_text'].apply(filter_content)\n",
    "# Create document-term matrix\n",
    "vectorizer = CountVectorizer()\n",
    "X = vectorizer.fit_transform(df['processed_text'].apply(lambda x: ' '.join(x)))\n",
    "\n"
   ]
  },
  {
   "cell_type": "code",
   "execution_count": 5,
   "metadata": {},
   "outputs": [
    {
     "name": "stdout",
     "output_type": "stream",
     "text": [
      "\n",
      "LDA Topics:\n",
      "Topic 0: resource performance algorithm latency kubernetes container time network based load\n",
      "Topic 1: distributed metric trace analysis based performance management deployment paper edge\n",
      "Topic 2: computing design development using iot paper based model technology framework\n",
      "Topic 3: network platform paper management framework business design based implementation using\n",
      "Topic 4: model smart based development process tool platform using deployment case\n"
     ]
    }
   ],
   "source": [
    "# 2. LDA\n",
    "def get_topics(model, vectorizer, n_top_words):\n",
    "    words = vectorizer.get_feature_names_out()\n",
    "    topics = []\n",
    "    for topic in model.components_:\n",
    "        topic_words = [words[i] for i in topic.argsort()[:-n_top_words - 1:-1]]\n",
    "        topics.append(topic_words)\n",
    "    return topics\n",
    "\n",
    "# Train LDA\n",
    "lda = LatentDirichletAllocation(n_components=5, random_state=42)\n",
    "lda.fit(X)\n",
    "\n",
    "# Get LDA topics\n",
    "lda_topics = get_topics(lda, vectorizer, 10)\n",
    "print(\"\\nLDA Topics:\")\n",
    "for idx, topic in enumerate(lda_topics):\n",
    "    print(f\"Topic {idx}: {' '.join(topic)}\")\n",
    "\n",
    "\n"
   ]
  },
  {
   "cell_type": "code",
   "execution_count": 6,
   "metadata": {},
   "outputs": [
    {
     "data": {
      "image/png": "[encoded data removed]",
      "text/plain": [
       "<Figure size 1000x500 with 1 Axes>"
      ]
     },
     "metadata": {},
     "output_type": "display_data"
    }
   ],
   "source": [
    "\n",
    "# Plot topic distribution\n",
    "topic_dist = lda.transform(X)\n",
    "dominant_topics = topic_dist.argmax(axis=1)\n",
    "\n",
    "plt.figure(figsize=(10, 5))\n",
    "sns.histplot(dominant_topics, bins=5)\n",
    "plt.xlabel('Topic')\n",
    "plt.ylabel('Number of documents')\n",
    "plt.title('Distribution of topics in documents')\n",
    "plt.show()"
   ]
  },
  {
   "cell_type": "code",
   "execution_count": 7,
   "metadata": {},
   "outputs": [
    {
     "name": "stderr",
     "output_type": "stream",
     "text": [
      "c:\\Users\\bvits\\OneDrive\\Desktop\\2024\\Uni\\thesis\\thesis reading\\compatibility of data products\\Lit Review\\Processing Docs\\.venv\\lib\\site-packages\\tqdm\\auto.py:21: TqdmWarning: IProgress not found. Please update jupyter and ipywidgets. See https://ipywidgets.readthedocs.io/en/stable/user_install.html\n",
      "  from .autonotebook import tqdm as notebook_tqdm\n"
     ]
    }
   ],
   "source": [
    "# Imports\n",
    "from bertopic import BERTopic\n",
    "from sklearn.feature_extraction.text import CountVectorizer\n",
    "from sklearn.metrics.pairwise import cosine_similarity\n",
    "import numpy as np\n",
    "import pandas as pd\n",
    "from umap import UMAP\n",
    "from hdbscan import HDBSCAN\n",
    "import matplotlib.pyplot as plt\n",
    "from FuzzyTM import FLSA_W"
   ]
  },
  {
   "cell_type": "code",
   "execution_count": 8,
   "metadata": {},
   "outputs": [
    {
     "name": "stderr",
     "output_type": "stream",
     "text": [
      "2025-02-20 12:36:44,261 - BERTopic - Embedding - Transforming documents to embeddings.\n",
      "Batches: 100%|██████████| 16/16 [00:20<00:00,  1.30s/it]\n",
      "2025-02-20 12:37:11,810 - BERTopic - Embedding - Completed ✓\n",
      "2025-02-20 12:37:11,811 - BERTopic - Dimensionality - Fitting the dimensionality reduction algorithm\n",
      "2025-02-20 12:37:19,955 - BERTopic - Dimensionality - Completed ✓\n",
      "2025-02-20 12:37:19,958 - BERTopic - Cluster - Start clustering the reduced embeddings\n",
      "2025-02-20 12:37:19,995 - BERTopic - Cluster - Completed ✓\n",
      "2025-02-20 12:37:20,003 - BERTopic - Representation - Extracting topics from clusters using representation models.\n",
      "2025-02-20 12:37:20,099 - BERTopic - Representation - Completed ✓\n"
     ]
    }
   ],
   "source": [
    "# Combine title and abstract for analysis \n",
    "df['text'] = df['Document Title'] + ' ' + df['Abstract']\n",
    "docs = df['text'].tolist()\n",
    "\n",
    "# Create BERTopic model with parameters from example\n",
    "umap_model = UMAP(n_neighbors=15, n_components=5, min_dist=0.0, metric='cosine')\n",
    "hdbscan_model = HDBSCAN(min_cluster_size=15, metric='euclidean', cluster_selection_method='eom', prediction_data=True)\n",
    "vectorizer_model = CountVectorizer(stop_words=\"english\")\n",
    "\n",
    "topic_model = BERTopic(\n",
    "    umap_model=umap_model, \n",
    "    hdbscan_model=hdbscan_model,\n",
    "    vectorizer_model=vectorizer_model,\n",
    "    calculate_probabilities=True,\n",
    "    verbose=True\n",
    ")\n",
    "\n",
    "# Fit model and get topics\n",
    "topics, probs = topic_model.fit_transform(docs)\n"
   ]
  },
  {
   "cell_type": "code",
   "execution_count": 12,
   "metadata": {},
   "outputs": [
    {
     "name": "stdout",
     "output_type": "stream",
     "text": [
      "Number of topics: 5\n",
      "\n",
      "Top terms per topic:\n",
      "   Topic  Count                                                Name                                                                                                       Representation                                                                                                                                                                                                                                                                                                                                                                                                                                                                                                                                                                                                                                                                                                                                                                                                                                                                                                                                                                                                                                                                                                                                                                                                                                                                                                                                                                                                                                                                                                                                                                                                                                                                                                                                                                                                                                                                                                                                                                                                                                                                                                                                                                                                                                                                                                                                                                                                                                                                                                                                                                                                                                                                                                                                                                                                                                                                                                                                                                                                                                                                                                                                                                                                                                                                                                                                                                                                                                                                                                                                                                                                                                                                                                                                                                                                                                                                                                                                                                                                                                                                                                                                                                                                                                                                                                                                                                                                                                                                                                                                                                                                                                                                                                                                                                                                                                                                                                                                                                                                                                                                                                                                                                                                                                                                                                                                                                                                                                                                                                                                                                                                                                                                                                                                                                                                                                                                                                                                                                           Representative_Docs\n",
      "0     -1     30      -1_microservices_architecture_components_cloud             [microservices, architecture, components, cloud, data, applications, design, development, paper, online]                                                                                                                                                                                                                                                                                                                                                                                                                                                                                                                                                                                                                                                                                                                                                                                                                                                                                                                                                                                                                                                                                                                                                                                                                                                                                                                                                  [Automated Testing and Resilience of Microservice’s Network-link using Istio Service Mesh Microservices technology has gained considerable popularity in software design to deploy complex applications in the form of micro-modular microservice components. Each service is implemented as an autonomous system, and its internal constituent data can be accessed via a network interface. Such architecture increases the complexity of the network because each module is a separate entity for development and operations. A fault in any service affects the operation of another service and could completely break the application. It is, therefore, necessary to create a framework for the systematic testing and resilience of the network link in microservices, independent of the programming language and business logic. It helps the network administrator track the cause of the fault. In this paper, we have shown the use of the service mesh Istio to monitor communication between microservices and to develop automated testing and resilience. Istio provides various types of fault injectors for communication links between services. A Locust load testing tool is used to exert a microservice load. The faulty link is located via the Jaeger and Grafana dashboard within the Istio frame. For resilience or correction of the fault, a new connection is temporarily established between the affected microservice by deploying redundant services. In addition, microservices scaling and the implementation of the circuit breaker have been shown to remedy network congestion. The setup is demonstrated in the Kubernetes cluster with the Hipster shop e-commerce application., Development of the Concept and Architecture of an Automated System for Updating Physical Knowledge for Information Support of Search Design For developing an automated system for updating physical knowledge for information support of search design, it is necessary to choose a technology stack that would meet the implementation requirements. In view of the sanctions currently imposed on the Russian Federation, it is worth considering mainly open projects and/or domestic developments. We will highlight the main criteria that it is desirable to take into account when designing the architecture of an automated system to support the synthesis of new technical systems and technologies: (a) ability to store and process large amounts of data; (b) unification access for all data analysis procedures; (c) maximum automation of all stages; (d) modularity of the structure, focus on the expansion of functionality; (e) focus on open source solutions and software of domestic manufacturers, excluding rigid binding to paid foreign solutions. As a result of the work done, various aspects of the implementation of the required automated system were analyzed. A review of various software systems and cloud products showed that the concept of building data lakes (Data Lake) in conjunction with the distributed processing tools of the Apache Hadoop ecosystem is used for big data processing. An architecture framework based on a centralized data warehouse and Hadoop components is proposed. It will be possible to increase the functionality of the platform by adding new microservices that connect to the storage and distributed processing tools via the API, as well as using a single web service for managing and displaying data analysis results from these microservices., Online Experiment Platform: A Microservices-based Cloud Native Application The development of cloud native technologies and web technologies is constantly innovating all aspects of web applications. As the scale of web applications continues to expand, the complexity of design, development, deployment and maintenance is getting higher and higher. The industry urgently needs a new web development paradigm to meet the upcoming challenge, so the concept of microservices comes into being, and soon becomes the preferred solution for large companies and individual developers. The emergence of public and private clouds further reduces the difficulty of implementing microservices-based applications. This article analyzes the idea of microservices architecture and its key components, then presents a microservices-based cloud native application Online experiment platform. As a complete product, its life cycle well demonstrates the advantages of microservices architecture and the practical significance of cloud native concept.]\n",
      "1      0    251     0_architecture_microservices_applications_cloud  [architecture, microservices, applications, cloud, data, microservice, computing, components, application, service]                                                                                                                                                                                                                                                                                                                                                                                                                                                                                                                                                                                                                                                                                                                                                                                                                 [Internet of Things Services Orchestration Framework Based on Kubernetes and Edge Computing Presented work is fanalysis of how the microservices paradigm can be used to design and implement distributed edge services for Internet of Things (IoT) applications. Basically, IoT is a platform where integrated services are associated with the common network, thus all devices are able to gather and exchange data among each other. Typically, monolithic user mobility research services are developed for the unified ETSI MEC system reference architecture centers. ETSI MEC considers microservices as a tool for breaking monolithic applications into a set of loosely coupled distributed components. It is expected that this architecture will facilitate the dynamic adaptation during the application execution. However, increased modularity can also increase the burden on orchestration and system management. In MEC, user hardware is connected through gateways to microservices running on the edge host.There are three levels in each of the edge systems: 1) microservices perform a logical operation with components for motion track analysis, 2) movement foresight and 3) outcome visualization. The distributed service is realized with Docker containers and calculated on actual world adjustment with low capacity edge servers and real user mobility information. The results demonstrate the fact that the edge perspective of low latency may be encountered in this sort of implementation. The integration of a software creation technology with a standardized edge system supplies respectable basis for subsequent development. The paper considers the application of the boundary computing architecture and Kubernetes as an orchestration and management of network applications., Resource-Aware Dynamic Service Deployment for Local IoT Edge Computing: Healthcare Use Case Edge Computing is a novel computing paradigm moving server resources closer to end-devices. In the context of IoT, Edge Computing is a centric technology for enabling reliable, context-aware and low-latency services for several application areas such as smart healthcare, smart industry and smart cities. In our previous work, we have proposed a three-tier IoT Edge architecture and a virtual decentralized service platform based on lightweight microservices, called nanoservices, running on it. Together, these proposals form a basis for virtualizing the available local computational capacity and utilizing it to provide localized resource-efficient IoT services based on the applications’ need. Furthermore, locally-deployed functions are resilient to access network problems and can limit the propagation of sensitive user data for improved privacy. In this paper, we propose an automatic service and resource discovery mechanism for efficient on-the-fly deployment of nanoservices on local IoT nodes. As use case, we have selected a healthcare remote monitoring scenario, which requires high service reliability and availability in a highly dynamic environment. Based on the selected use case, we propose a real-world prototype implementation of the proposed mechanism on Raspberry Pi platform. We evaluate the performance and resource-efficiency of the proposed resource matching function with two alternative deployment approaches: containerized and non-containerized deployment. The results show that the containerized deployment is more resource-efficient, while the resource discovery and matching process takes approximately 6–17 seconds, where containerization adds only 1–1.5 seconds. This can be considered a feasible price for streamlined service management, scalability, resource-efficiency and fault-tolerance., Microservice Based Edge Computing Architecture for Internet of Things Distributed computation and AI processing at the edge has been identified as an efficient solution to deliver real-time IoT services and applications compared to cloud-based paradigms. These solutions are expected to support the delay-sensitive IoT applications, autonomic decision making, and smart service creation at the edge in comparison to traditional IoT solutions. However, existing solutions have limitations concerning distributed and simultaneous resource management for AI computation and data processing at the edge; concurrent and real-time application execution; and platform-independent deployment. Hence, first, we propose a novel three-layer architecture that facilitates the above service requirements. Then we have developed a novel platform and relevant modules with integrated AI processing and edge computer paradigms considering issues related to scalability, heterogeneity, security, and interoperability of IoT services. Further, each component is designed to handle the control signals, data flows, microservice orchestration, and resource composition to match with the IoT application requirements. Finally, the effectiveness of the proposed platform is tested and have been verified.]\n",
      "2      1    134  1_microservices_architecture_software_microservice     [microservices, architecture, software, microservice, development, using, systems, monolithic, design, approach]  [Analyzing Microservices and Monolithic Systems: Key Factors in Architecture, Development, and Operations Microservices and monolithic systems are two prevalent architectural approaches in software development. This study provides a complete review and analysis of the key components involved in design, development, and operation in software development. A systematic review of the literature was conducted according to the Preferred Reporting Items for Systematic Reviews and Meta-Analyses (PRISMA) guidelines. This review examined various sources debating monolithic systems vs microservices, highlighting their benefits, drawbacks, and implementation in enterprises. The paper addresses important research questions, aiming to further analyze this architectural approach. Findings show that microservices offer benefits such as scalability, flexibility, and independent deployment, while monolithic systems provide simplicity and ease of development. However, challenges related to network communication, data consistency, and operational complexity were also found with microservices. This research focuses on discussing the trade-offs and factors to consider when deciding between monolithic systems and microservices, which provides in-depth information for practitioners in decision-making for software development. This research aims to help readers understand the effects of using monolithic or microservice-based systems in software development., Software Architecture with C++: Design modern systems using effective architecture concepts, design patterns, and techniques with C++20 Apply business requirements to IT infrastructure and deliver a high-quality product by understanding architectures such as microservices, DevOps, and cloud-native using modern C++ standards and featuresKey FeaturesDesign scalable large-scale applications with the C++ programming languageArchitect software solutions in a cloud-based environment with continuous integration and continuous delivery (CI/CD)Achieve architectural goals by leveraging design patterns, language features, and useful toolsBook DescriptionSoftware architecture refers to the high-level design of complex applications. It is evolving just like the languages we use, but there are architectural concepts and patterns that you can learn to write high-performance apps in a high-level language without sacrificing readability and maintainability. If you're working with modern C++, this practical guide will help you put your knowledge to work and design distributed, large-scale apps. You'll start by getting up to speed with architectural concepts, including established patterns and rising trends, then move on to understanding what software architecture actually is and start exploring its components. Next, you'll discover the design concepts involved in application architecture and the patterns in software development, before going on to learn how to build, package, integrate, and deploy your components. In the concluding chapters, you'll explore different architectural qualities, such as maintainability, reusability, testability, performance, scalability, and security. Finally, you will get an overview of distributed systems, such as service-oriented architecture, microservices, and cloud-native, and understand how to apply them in application development. By the end of this book, you'll be able to build distributed services using modern C++ and associated tools to deliver solutions as per your clients' requirements.What you will learnUnderstand how to apply the principles of software architectureApply design patterns and best practices to meet your architectural goalsWrite elegant, safe, and performant code using the latest C++ featuresBuild applications that are easy to maintain and deployExplore the different architectural approaches and learn to apply them as per your requirementSimplify development and operations using application containersDiscover various techniques to solve common problems in software design and developmentWho this book is forThis software architecture C++ programming book is for experienced C++ developers looking to become software architects or develop enterprise-grade applications. , Microservices-based software architecture and approaches In the last few years, a revised software architecture style has been developed to design new software applications. This architecture style is particularly suited for use cases in the aerospace industry, from an independently deployable software service. The microservices architectural style develops a single application as a suite of small services, each running in its own process and communicating with lightweight mechanisms. These services are built around business and mission capabilities and independently deployable by fully automated machinery. With microservices, some types of applications become easier to build and maintain when they are broken down into smaller, composable pieces that work together. Each component is then developed separately, and the application is then simply the sum of its constituent components. This is in contrast to a traditional, “monolithic” application which is all developed in one piece. This paper will discuss, several aspects of microservices-based architecture, including several potential use cases for the aerospace industry. The characteristics of microservice-based architecture such as componentization, organization, endpoints and messaging mechanisms. The technical implementation of microservices by reviewing containerization, services communication and related architectural components. Specific open source projects and components that can be utilized to build microservices-based architecture. A sample set of use cases.]\n",
      "3      2     42                    2_anomaly_root_data_microservice                    [anomaly, root, data, microservice, cause, detection, metrics, monitoring, microservices, traces]                                                                                                                                                                                                                                                                                                                                                                                                                                                                                                                                                                                                                                                                                                                                                                                                                                                                                                                                                                                                                                                                                                                                        [HeMiRCA: Fine-Grained Root Cause Analysis for Microservices with Heterogeneous Data Sources Microservices architecture improves software scalability, resilience, and agility but also poses significant challenges to system reliability due to their complexity and dynamic nature. Identifying and resolving anomalies promptly is crucial because they can quickly propagate to other microservices and cause severe damage to the system. Existing root-cause metric localization approaches rely on metrics or metrics-anomalies correlations but overlook other monitoring data sources (e.g., traces). We are the first to identify and leverage the anomaly-aware monotonic correlation between heterogeneous monitoring data, motivated by which we propose a novel framework, Heterogeneous data sources in Microservice systems for Root Cause Analysis (HeMiRCA), for hierarchical root cause analysis using Spearman correlation. HeMiRCA is based on the key observation that the microservice responsible for a particular type of fault exhibits a monotonic correlation between the trends of its associated metrics and the trace-based anomaly score of the system. HeMiRCA first calculates time-series anomaly scores using traces and then exploits the correlations between multivariate metrics and the scores to rank the suspicious metrics and microservices. HeMiRCA has been evaluated on two datasets collected from widely used microservice systems. The results show that HeMiRCA outperforms the state-of-the-art approaches by a large margin in identifying root causes at both service level and metric level, achieving a top-1 hit ratio of 82.7\\% and 74\\% on average, respectively., HeMiRCA: Fine-Grained Root Cause Analysis for Microservices with Heterogeneous Data Sources Microservices architecture improves software scalability, resilience, and agility but also poses significant challenges to system reliability due to their complexity and dynamic nature. Identifying and resolving anomalies promptly is crucial because they can quickly propagate to other microservices and cause severe damage to the system. Existing root-cause metric localization approaches rely on metrics or metrics-anomalies correlations but overlook other monitoring data sources (e.g., traces). We are the first to identify and leverage the anomaly-aware monotonic correlation between heterogeneous monitoring data, motivated by which we propose a novel framework, Heterogeneous data sources in Microservice systems for Root Cause Analysis (HeMiRCA), for hierarchical root cause analysis using Spearman correlation. HeMiRCA is based on the key observation that the microservice responsible for a particular type of fault exhibits a monotonic correlation between the trends of its associated metrics and the trace-based anomaly score of the system. HeMiRCA first calculates time-series anomaly scores using traces and then exploits the correlations between multivariate metrics and the scores to rank the suspicious metrics and microservices. HeMiRCA has been evaluated on two datasets collected from widely used microservice systems. The results show that HeMiRCA outperforms the state-of-the-art approaches by a large margin in identifying root causes at both service level and metric level, achieving a top-1 hit ratio of 82.7\\% and 74\\% on average, respectively., Root-Cause Metric Location for Microservice Systems via Log Anomaly Detection Microservice systems are typically fragile and failures are inevitable in them due to their complexity and large scale. However, it is challenging to localize the root-cause metric due to its complicated dependencies and the huge number of various metrics. Existing methods are based on either correlation between metrics or correlation between metrics and failures. All of them ignore the key data source in microservice, i.e., logs. In this paper, we propose a novel root-cause metric localization approach by incorporating log anomaly detection. Our approach is based on a key observation, the value of root-cause metric should be changed along with the change of the log anomaly score of the system caused by the failure. Specifically, our approach includes two components, collecting anomaly scores by log anomaly detection algorithm and identifying root-cause metric by robust correlation analysis with data augmentation. Experiments on an open-source benchmark microservice system have demonstrated our approach can identify root-cause metrics more accurately than existing methods and only require a short localization time. Therefore, our approach can assist engineers to save much effort in diagnosing and mitigating failures as soon as possible.]\n",
      "4      3     33           3_security_service_microservices_services                  [security, service, microservices, services, attack, software, systems, architecture, trust, cloud]                                                                                                                                                                                                                                                                                                                                                                                                                                                                                                                                                                                                                                                                                                                                          [A Runtime Trust Evaluation Mechanism in the Service Mesh Architecture With the advancement of cloud-native computing, enterprise software is shifting towards a microservice architecture (MSA). In a MSA, the application is built as a composite of microservices (also called services) where each service is dedicated to providing specific functionalities and communicating via APIs. The service mesh is a dedicated infrastructure layer serving as a service-to-service communication platform. It is introduced to alleviate the complexity, manageability, and interoperability challenges involved in a MSA. Even though the service mesh includes APIs to secure service-to-service communication, more functionality is needed to handle the perimeter-less and dynamic cloud environment. The existing APIs enable security measures based on a pre-defined configuration. However, there is no mechanism for dynamic trust evaluation of the participating services, which is necessary to protect the application from potential attacks. Attackers can exploit a vulnerability caused by a rouge service as a backdoor to compromise the application. Thus, there is a need for a trust evaluation mechanism in the service mesh to follow zero-trust architecture (ZTA) principles. This paper introduces a runtime trust evaluator (RTE) incorporated as a component within the service mesh control plane. A RTE can evaluate the trustworthiness of services at runtime before establishing service-to-service communications. The core functionality of a RTE is to assess the new service invocation requests initiated by a service to evaluate the trustworthiness of that service. The RTE collects the services’ invocation history and other telemetric data to determine the services’ criticality level for single-point failure. The RTE assesses service invocation request attributes to determine the existence of an unauthorized request and the impact on the requested service’s criticality level. The result is an evaluation of the initiator service’s trustworthiness. We demonstrate our approach on an open source microservice application from the Google Cloud team called Online Boutique. The environment setup uses Kubernetes as an orchestration solution and Istio as the service mesh platform., Docker container security via heuristics-based multilateral security-conceptual and pragmatic study In this paper we attempt to provide unified security and privacy multilateral security architecture for cloud services stack, using key latest technology via LxC in general and Docker containers in specific. Docker is one of the first to use LxC at such a large scale, but LxC is not a very new concept, it is around for quite some time. Docker container service is a key Platform as a Service (PaaS) based engine. Unified layered cloud computing multilateral security implementation addresses the potential risks associated with cloud computing environment. It also specifies when, at what time, where, and how to apply security controls. Unified Design includes the structured connection between the components of cloud ecosystem for basket and bucket of unified cloud-based hybrid services using micro service oriented venture architectural services realized in terms of PAAS using Docker container as a service. We surveyed various industry/academic professionals and based on our experience we tried to understand the challenges they faced while using the cloud system. We tried to understand the security challenges, incidents, story pieces, accidents, experience they faced while designing, implementing and using the cloud services/resources virtually via online. This work helps to assess the security design and architecture quality using multilateral security framework for Docker container. We try to present the architecture using OSI/TCP/IP stack model with reference to Cloud service stack model and deployment stack model and try to propose the balanced multilateral security prototype with reference to Docker Container security architecture., Fortifying Information Security: Security Implications of Microservice and Monolithic Architectures Monolithic architecture is a traditional and primary method for creating software programs. On the other hand, monolithic architecture's shortcomings were addressed by developing the unique evolutionary technique known as microservice architecture, which led to businesses' widespread acceptance of this design. However, the microservice design raises several security concerns, particularly web application security, a significant business problem. The purpose of this study is to analyse and contrast the security and safety features of monolithic and microservice architectures, emphasizing the security issues that each presents and the solutions that have been proposed to address them. Examining both architectures security risks and investigating viable mitigation strategies are covered in the paper. Microservices improve security and flexibility but also need a more complex and dynamic security strategy.]\n"
     ]
    }
   ],
   "source": [
    "pd.set_option('display.max_colwidth', None)  # Show full content in each column\n",
    "pd.set_option('display.max_rows', None)      # Show all rows\n",
    "pd.set_option('display.max_columns', None)   # Show all columns\n",
    "pd.set_option('display.expand_frame_repr', False)  # Prevent line wrapping\n",
    "\n",
    "# Print topics info\n",
    "print(\"Number of topics:\", len(set(topics)))\n",
    "print(\"\\nTop terms per topic:\")\n",
    "print(topic_model.get_topic_info())\n",
    "\n"
   ]
  },
  {
   "cell_type": "code",
   "execution_count": 10,
   "metadata": {},
   "outputs": [
    {
     "name": "stdout",
     "output_type": "stream",
     "text": [
      "\n",
      "Articles for topic 0:\n",
      "                                                  text  \\\n",
      "0    RESTful API Automated Test Case Generation wit...   \n",
      "1    Dynamic Evaluation of Microservice Granularity...   \n",
      "2    Actor-Driven Decomposition of Microservices th...   \n",
      "3    White-Box Fuzzing RPC-Based APIs with EvoMaste...   \n",
      "4    MicroProf: Code-level Attribution of Unnecessa...   \n",
      "..                                                 ...   \n",
      "129  Implementing Event-Driven Microservices Archit...   \n",
      "130  Software Architecture with C++: Design modern ...   \n",
      "131  Event-Driven Architecture in Golang: Building ...   \n",
      "132  Content Management System Architecture This ch...   \n",
      "133  An Atypical ASP.NET Core 6 Design Patterns Gui...   \n",
      "\n",
      "                                        Document Title  \\\n",
      "0    RESTful API Automated Test Case Generation wit...   \n",
      "1    Dynamic Evaluation of Microservice Granularity...   \n",
      "2    Actor-Driven Decomposition of Microservices th...   \n",
      "3    White-Box Fuzzing RPC-Based APIs with EvoMaste...   \n",
      "4    MicroProf: Code-level Attribution of Unnecessa...   \n",
      "..                                                 ...   \n",
      "129  Implementing Event-Driven Microservices Archit...   \n",
      "130  Software Architecture with C++: Design modern ...   \n",
      "131  Event-Driven Architecture in Golang: Building ...   \n",
      "132             Content Management System Architecture   \n",
      "133  An Atypical ASP.NET Core 6 Design Patterns Gui...   \n",
      "\n",
      "                                              Abstract     source bool  \\\n",
      "0    RESTful APIs are widespread in industry, espec...        ACM   no   \n",
      "1    Microservices have gained acceptance in softwa...        ACM   no   \n",
      "2    The microservices architectural style has gain...        ACM   no   \n",
      "3    Remote Procedure Call (RPC) is a communication...        ACM   no   \n",
      "4    The microservice architecture style has gained...        ACM   no   \n",
      "..                                                 ...        ...  ...   \n",
      "129  Implement modern design patterns that leverage...  IEEE book   no   \n",
      "130  Apply business requirements to IT infrastructu...  IEEE book   no   \n",
      "131  Begin building event-driven microservices, inc...  IEEE book   no   \n",
      "132  This chapter looks at architecture elements of...  IEEE book   no   \n",
      "133  The professional developer’s essential guide t...  IEEE book   no   \n",
      "\n",
      "                                        processed_text  \n",
      "0    [restful, api, automated, test, case, generati...  \n",
      "1    [dynamic, evaluation, granularity, adaptation,...  \n",
      "2    [decomposition, scalability, assessment, archi...  \n",
      "3    [fuzzing, apis, evomaster, industrial, case, s...  \n",
      "4    [microprof, unnecessary, transfer, style, gain...  \n",
      "..                                                 ...  \n",
      "129  [implementing, develop, distributed, apps, sca...  \n",
      "130  [design, modern, using, effective, concept, de...  \n",
      "131  [golang, building, complex, consistency, begin...  \n",
      "132  [content, management, chapter, look, element, ...  \n",
      "133  [core, design, pattern, guide, solid, architec...  \n",
      "\n",
      "[134 rows x 6 columns]\n"
     ]
    }
   ],
   "source": [
    "# Code that obtains the articles that belong to a specific topic as a dataframe\n",
    "def get_topic_articles(topic, topics, docs, df):\n",
    "    topic_articles = []\n",
    "    for idx, t in enumerate(topics):\n",
    "        if t == topic:\n",
    "            topic_articles.append(docs[idx])\n",
    "    text_df = pd.DataFrame(topic_articles, columns=['text'])\n",
    "    topic_df = text_df.merge(df, on='text', how='left')\n",
    "    return topic_df\n",
    "\n",
    "\n",
    "\n",
    "# Get articles for topic 2\n",
    "topic_0_articles = get_topic_articles(1, topics, docs, df)\n",
    "\n",
    "# Merge with the original dataframe to get additional information\n",
    "\n",
    "print(\"\\nArticles for topic 0:\")\n",
    "print(topic_0_articles)\n"
   ]
  },
  {
   "cell_type": "code",
   "execution_count": 11,
   "metadata": {},
   "outputs": [],
   "source": [
    "import os\n",
    "\n",
    "# Code to save the dataframe of topics to a file in the topics folder\n",
    "\n",
    "# Create topics directory if it doesn't exist\n",
    "if not os.path.exists('topics'):\n",
    "    os.makedirs('topics')\n",
    "\n",
    "# Iterate over all topics and save the dataframe to a CSV file\n",
    "for topic in set(topics):\n",
    "    topic_articles = get_topic_articles(topic, topics, docs, df)\n",
    "    topic_articles.to_csv(f'topics/topic_{topic}.csv', index=False)"
   ]
  }
 ],
 "metadata": {
  "kernelspec": {
   "display_name": ".venv",
   "language": "python",
   "name": "python3"
  },
  "language_info": {
   "codemirror_mode": {
    "name": "ipython",
    "version": 3
   },
   "file_extension": ".py",
   "mimetype": "text/x-python",
   "name": "python",
   "nbconvert_exporter": "python",
   "pygments_lexer": "ipython3",
   "version": "3.9.19"
  }
 },
 "nbformat": 4,
 "nbformat_minor": 2
}
